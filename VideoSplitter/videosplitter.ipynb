{
 "cells": [
  {
   "cell_type": "code",
   "execution_count": 8,
   "metadata": {},
   "outputs": [
    {
     "name": "stdout",
     "output_type": "stream",
     "text": [
      "ffmpeg -i \"drive by download.mp4\" -c copy -map 0 -segment_time 00:00:58 -f segment -reset_timestamps 1 \"output/drive by download%2d.mp4\"\n",
      "\n"
     ]
    }
   ],
   "source": [
    "#access windows command line with python code\n",
    "\n",
    "import subprocess\n",
    "\n",
    "filename ='drive by download'\n",
    "output_folder = '/output/'\n",
    "filename_output = output_folder + filename \n",
    "minute ='00:00:58' #HH:MM:SS\n",
    "\n",
    "\n",
    "\n",
    "# command = 'dir'  # Replace 'dir' with the command you want to execute\n",
    "\n",
    "# ffmpeg -i \"20 Too Big to Fail by Andrew Ross Sorkin .mp4\" -c copy -map 0 -segment_time 00:00:59 -f segment -reset_timestamps 1 20_output%03d.mp4\n",
    "\n",
    "# command = f'ffmpeg -i \"{filename}.mp4\" -c copy -map 0 -segment_time {minute} -f segment -reset_timestamps 1 {filename_output}'\n",
    "command = f'ffmpeg -i \"{filename}.mp4\" -c copy -map 0 -segment_time {minute} -f segment -reset_timestamps 1 \"output/{filename}%2d.mp4\"'\n",
    "\n",
    "print(command)\n",
    "# Run the command and capture the output\n",
    "result = subprocess.run(command, shell=True, capture_output=True, text=True)\n",
    "\n",
    "# Print the output\n",
    "print(result.stdout)\n",
    "\n",
    "\n",
    "\n",
    "\n"
   ]
  },
  {
   "cell_type": "code",
   "execution_count": 5,
   "metadata": {},
   "outputs": [
    {
     "name": "stdout",
     "output_type": "stream",
     "text": [
      "Files with '.mp4' extension in the current directory:\n",
      "drive by download.mp4\n",
      "hello what is your name.mp4\n"
     ]
    }
   ],
   "source": [
    "#get list of filename in current directory in python\n",
    "\n",
    "import os\n",
    "\n",
    "# Get the current working directory\n",
    "current_directory = os.getcwd()\n",
    "\n",
    "# # Get a list of filenames in the current directory\n",
    "# file_list = os.listdir(current_directory)\n",
    "\n",
    "# # Print the list of filenames\n",
    "# print(\"Files in the current directory:\")\n",
    "# for filename in file_list:\n",
    "#     print(filename)\n",
    "\n",
    "\n",
    "# Get a list of filenames with a specific extension (e.g., \".txt\")\n",
    "specific_extension = \".mp4\"\n",
    "filtered_file_list = [filename for filename in os.listdir(current_directory) if filename.endswith(specific_extension)]\n",
    "\n",
    "# Print the list of filenames\n",
    "print(f\"Files with '{specific_extension}' extension in the current directory:\")\n",
    "for filename in filtered_file_list:\n",
    "    print(filename)\n"
   ]
  },
  {
   "cell_type": "code",
   "execution_count": 1,
   "metadata": {},
   "outputs": [
    {
     "name": "stdout",
     "output_type": "stream",
     "text": [
      "1 The Psychology of Money by Morgan Housel Vertica.mp4\n",
      "10 The Intelligent Investor by Benjamin Graham .mp4\n",
      "11 The Essays of Warren Buffett by Warren Buffett .mp4\n",
      "13 The Black Swan by Nassim Nicholas Taleb .mp4\n",
      "14 Fooled by Randomness by Nassim Nicholas Taleb .mp4\n",
      "15 The (Mis)Behavior of Markets by Robert J. Shill.mp4\n",
      "16 Extraordinary Popular Delusions and the Madness.mp4\n",
      "17 Devil Take the Highest Bid by Edward Chancellor.mp4\n",
      "18 When Genius Failed by Roger Lowenstein .mp4\n",
      "19 The Big Short by Michael Lewis .mp4\n",
      "2 The Little Book of Common Sense Investing by Joh.mp4\n",
      "20 Too Big to Fail by Andrew Ross Sorkin .mp4\n",
      "3 Your Money or Your Life by Vicki Robin and Joe D.mp4\n",
      "4 The Automatic Millionaire by David Bach .mp4\n",
      "5 The Millionaire Next Door by Thomas J. Stanley a.mp4\n",
      "6 The Richest Man in Babylon by George S. Clason .mp4\n",
      "7 Rich Dad Poor Dad by Robert Kiyosaki .mp4\n",
      "8 The Bogleheads' Guide to Investing by Taylor Lar.mp4\n",
      "9 A Random Walk Down Wall Street by Burton Malkiel.mp4\n",
      "Process is completed\n"
     ]
    }
   ],
   "source": [
    "#Combind - split all video in the current directory (only .mp4) in to specific timestamp \n",
    "\n",
    "import subprocess\n",
    "\n",
    "import os\n",
    "\n",
    "# Get the current working directory\n",
    "current_directory = os.getcwd()\n",
    "\n",
    "# Get a list of filenames with a specific extension (e.g., \".txt\")\n",
    "specific_extension = \".mp4\"\n",
    "filtered_file_list = [filename for filename in os.listdir(current_directory) if filename.endswith(specific_extension)]\n",
    "\n",
    "output_folder = current_directory +'/output/'\n",
    "minute ='00:00:58' #HH:MM:SS\n",
    "\n",
    "\n",
    "for filename in filtered_file_list:\n",
    "    print(filename)\n",
    "    name = filename[0:10]\n",
    "    # filename_output = output_folder + filename[0:len(filename)-4] + \"%2d.mp4\"\n",
    "    # filename_output = output_folder + name + \"%2d.mp4\"\n",
    "    command = f'ffmpeg -i \"{filename}\" -c copy -map 0 -segment_time {minute} -f segment -reset_timestamps 1 \"output/{name} %2d.mp4\"'\n",
    "    # print(command)\n",
    "    subprocess.run(command, shell=True, capture_output=True, text=True)\n",
    "\n",
    "# Print the output\n",
    "print(\"Process is completed\")"
   ]
  }
 ],
 "metadata": {
  "kernelspec": {
   "display_name": "Python 3",
   "language": "python",
   "name": "python3"
  },
  "language_info": {
   "codemirror_mode": {
    "name": "ipython",
    "version": 3
   },
   "file_extension": ".py",
   "mimetype": "text/x-python",
   "name": "python",
   "nbconvert_exporter": "python",
   "pygments_lexer": "ipython3",
   "version": "3.12.0"
  }
 },
 "nbformat": 4,
 "nbformat_minor": 2
}
