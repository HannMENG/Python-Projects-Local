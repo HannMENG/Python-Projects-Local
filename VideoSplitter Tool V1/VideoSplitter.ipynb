{
 "cells": [
  {
   "cell_type": "code",
   "execution_count": 1,
   "metadata": {},
   "outputs": [
    {
     "name": "stdout",
     "output_type": "stream",
     "text": [
      "Folder 'VideoSplitter' created successfully in C drive.\n"
     ]
    }
   ],
   "source": [
    "#create folder with python code in drive c\n",
    "import os\n",
    "\n",
    "def create_folder_in_c_drive(folder_name):\n",
    "    # Path to the C drive\n",
    "    c_drive_path = \"C:/\"\n",
    "\n",
    "    # Full path to the folder in the C drive\n",
    "    folder_path = os.path.join(c_drive_path, folder_name)\n",
    "\n",
    "    try:\n",
    "        # Create the folder\n",
    "        os.makedirs(folder_path)\n",
    "        print(f\"Folder '{folder_name}' created successfully in C drive.\")\n",
    "    except OSError as e:\n",
    "        print(f\"Error creating folder: {e}\")\n",
    "\n",
    "if __name__ == \"__main__\":\n",
    "    # Replace \"YourFolderName\" with the desired folder name\n",
    "    folder_name = \"VideoSplitter\"\n",
    "\n",
    "    # Call the function to create the folder in the C drive\n",
    "    create_folder_in_c_drive(folder_name)\n"
   ]
  },
  {
   "cell_type": "code",
   "execution_count": 3,
   "metadata": {},
   "outputs": [
    {
     "name": "stdout",
     "output_type": "stream",
     "text": [
      "Files copied from Assets to C:/VideoSplitter\n",
      "Environment variable YOUR_VARIABLE_NAME set to YOUR_VARIABLE_VALUE\n"
     ]
    }
   ],
   "source": [
    "#copy files to specify location and set system environment variable in python code\n",
    "\n",
    "import shutil\n",
    "import os\n",
    "\n",
    "def copy_files(source_directory, destination_directory):\n",
    "    # Copy all files from source_directory to destination_directory\n",
    "    shutil.copytree(source_directory, destination_directory)\n",
    "\n",
    "def set_environment_variable(variable_name, variable_value):\n",
    "    # Set environment variable\n",
    "    os.environ[variable_name] = variable_value\n",
    "\n",
    "if __name__ == \"__main__\":\n",
    "    # Replace these paths with your source and destination directories\n",
    "    source_directory = \"Assets\"\n",
    "    destination_directory = \"C:/VideoSplitter\"\n",
    "\n",
    "    # Call the function to copy files\n",
    "    copy_files(source_directory, destination_directory)\n",
    "\n",
    "    # Replace these values with your desired environment variable name and value\n",
    "    variable_name = \"YOUR_VARIABLE_NAME\"\n",
    "    variable_value = \"YOUR_VARIABLE_VALUE\"\n",
    "\n",
    "    # Call the function to set the environment variable\n",
    "    set_environment_variable(variable_name, variable_value)\n",
    "\n",
    "    print(f\"Files copied from {source_directory} to {destination_directory}\")\n",
    "    print(f\"Environment variable {variable_name} set to {variable_value}\")\n"
   ]
  },
  {
   "cell_type": "code",
   "execution_count": 2,
   "metadata": {},
   "outputs": [
    {
     "name": "stdout",
     "output_type": "stream",
     "text": [
      "Path 'C:/videosplitter2' already exists in the system environment variable PATH\n",
      "C:/videosplitter2;c:\\Users\\sicru\\AppData\\Local\\Programs\\Python\\Python312;c:\\Users\\sicru\\AppData\\Roaming\\Python\\Python312\\Scripts;C:\\Program Files\\Microsoft MPI\\Bin\\;C:\\Program Files\\Microsoft\\jdk-11.0.16.101-hotspot\\bin;C:\\Program Files (x86)\\VMware\\VMware Workstation\\bin\\;C:\\WINDOWS\\system32;C:\\WINDOWS;C:\\WINDOWS\\System32\\Wbem;C:\\WINDOWS\\System32\\WindowsPowerShell\\v1.0\\;C:\\WINDOWS\\System32\\OpenSSH\\;C:\\Program Files\\Microsoft SQL Server\\Client SDK\\ODBC\\170\\Tools\\Binn\\;C:\\Program Files\\Azure Data Studio\\bin;C:\\Program Files\\dotnet\\;C:\\Program Files (x86)\\Windows Kits\\10\\Windows Performance Toolkit\\;C:\\split_video_FFMPEG;C:\\Program Files (x86)\\Microsoft SQL Server\\160\\Tools\\Binn\\;C:\\Program Files\\Microsoft SQL Server\\160\\Tools\\Binn\\;C:\\Program Files\\Microsoft SQL Server\\160\\DTS\\Binn\\;C:\\Program Files (x86)\\Microsoft SQL Server\\160\\DTS\\Binn\\;C:\\Users\\sicru\\AppData\\Local\\Programs\\Python\\Python312\\Scripts\\;C:\\Users\\sicru\\AppData\\Local\\Programs\\Python\\Python312\\;C:\\Program Files\\MySQL\\MySQL Shell 8.0\\bin\\;C:\\Users\\sicru\\AppData\\Local\\Microsoft\\WindowsApps;;C:\\Program Files\\Azure Data Studio\\bin;C:\\Users\\sicru\\AppData\\Local\\Programs\\Microsoft VS Code\\bin;C:\\Program Files\\Azure Data Studio\\bin;C:\\Users\\sicru\\.dotnet\\tools;C:\\Program Files\\Microsoft MPI\\Bin\\;C:\\Program Files\\Microsoft\\jdk-11.0.16.101-hotspot\\bin;C:\\Program Files (x86)\\VMware\\VMware Workstation\\bin\\;C:\\WINDOWS\\system32;C:\\WINDOWS;C:\\WINDOWS\\System32\\Wbem;C:\\WINDOWS\\System32\\WindowsPowerShell\\v1.0\\;C:\\WINDOWS\\System32\\OpenSSH\\;C:\\Program Files\\Microsoft SQL Server\\Client SDK\\ODBC\\170\\Tools\\Binn\\;C:\\Program Files\\Azure Data Studio\\bin;C:\\Program Files\\dotnet\\;C:\\Program Files (x86)\\Windows Kits\\10\\Windows Performance Toolkit\\;C:\\split_video_FFMPEG;C:\\Program Files (x86)\\Microsoft SQL Server\\160\\Tools\\Binn\\;C:\\Program Files\\Microsoft SQL Server\\160\\Tools\\Binn\\;C:\\Program Files\\Microsoft SQL Server\\160\\DTS\\Binn\\;C:\\Program Files (x86)\\Microsoft SQL Server\\160\\DTS\\Binn\\;C:\\Users\\sicru\\AppData\\Local\\Programs\\Python\\Python312\\Scripts\\;C:\\Users\\sicru\\AppData\\Local\\Programs\\Python\\Python312\\;C:\\Program Files\\MySQL\\MySQL Shell 8.0\\bin\\;C:\\Users\\sicru\\AppData\\Local\\Microsoft\\WindowsApps;;C:\\Program Files\\Azure Data Studio\\bin;C:\\Users\\sicru\\AppData\\Local\\Programs\\Microsoft VS Code\\bin;C:\\Program Files\\Azure Data Studio\\bin;C:\\Users\\sicru\\.dotnet\\tools\n"
     ]
    }
   ],
   "source": [
    "import os\n",
    "\n",
    "# Step 1: Define the path to be added to the system environment variable\n",
    "new_path = \"C:/videosplitter2\"\n",
    "\n",
    "# Step 2: Check if the path already exists in the PATH variable\n",
    "if new_path not in os.environ['PATH']:\n",
    "    # Step 3: Concatenate the new path to the existing PATH variable\n",
    "    os.environ['PATH'] = new_path + os.pathsep + os.environ['PATH']\n",
    "\n",
    "    # Step 4: Optionally, check if the path has been added successfully\n",
    "    if new_path in os.environ['PATH']:\n",
    "        print(f\"Path '{new_path}' added to the system environment variable PATH\")\n",
    "    else:\n",
    "        print(f\"Failed to add path '{new_path}' to the system environment variable PATH\")\n",
    "else:\n",
    "    print(f\"Path '{new_path}' already exists in the system environment variable PATH\")\n",
    "\n",
    "# Note: Changes made to the environment variable are effective only for the current script and its subprocesses.\n",
    "# They won't persist after the script exits unless set manually in the system settings.\n",
    "\n",
    "path = os.getenv('PATH')\n",
    "print(path)"
   ]
  },
  {
   "cell_type": "code",
   "execution_count": 7,
   "metadata": {},
   "outputs": [
    {
     "name": "stdout",
     "output_type": "stream",
     "text": [
      "ALLUSERSPROFILE: C:\\ProgramData\n",
      "APPDATA: C:\\Users\\sicru\\AppData\\Roaming\n",
      "CHROME_CRASHPAD_PIPE_NAME: \\\\.\\pipe\\crashpad_17884_AOOUWBHMOJEGWPGJ\n",
      "COMMONPROGRAMFILES: C:\\Program Files\\Common Files\n",
      "COMMONPROGRAMFILES(X86): C:\\Program Files (x86)\\Common Files\n",
      "COMMONPROGRAMW6432: C:\\Program Files\\Common Files\n",
      "COMPUTERNAME: MENGHANN\n",
      "COMSPEC: C:\\WINDOWS\\system32\\cmd.exe\n",
      "DRIVERDATA: C:\\Windows\\System32\\Drivers\\DriverData\n",
      "EFC_13612: 1\n",
      "ELECTRON_RUN_AS_NODE: 1\n",
      "HOMEDRIVE: C:\n",
      "HOMEPATH: \\Users\\sicru\n",
      "JPY_INTERRUPT_EVENT: 1892\n",
      "LOCALAPPDATA: C:\\Users\\sicru\\AppData\\Local\n",
      "LOGONSERVER: \\\\MENGHANN\n",
      "MSMPI_BENCHMARKS: C:\\Program Files\\Microsoft MPI\\Benchmarks\\\n",
      "MSMPI_BIN: C:\\Program Files\\Microsoft MPI\\Bin\\\n",
      "NUMBER_OF_PROCESSORS: 12\n",
      "ONEDRIVE: D:\\OneDrive - Royal University of Phnom Penh\n",
      "ONEDRIVECOMMERCIAL: D:\\OneDrive - Royal University of Phnom Penh\n",
      "ORIGINAL_XDG_CURRENT_DESKTOP: undefined\n",
      "OS: Windows_NT\n",
      "PATH: c:\\Users\\sicru\\AppData\\Local\\Programs\\Python\\Python312;c:\\Users\\sicru\\AppData\\Roaming\\Python\\Python312\\Scripts;C:\\Program Files\\Microsoft MPI\\Bin\\;C:\\Program Files\\Microsoft\\jdk-11.0.16.101-hotspot\\bin;C:\\Program Files (x86)\\VMware\\VMware Workstation\\bin\\;C:\\WINDOWS\\system32;C:\\WINDOWS;C:\\WINDOWS\\System32\\Wbem;C:\\WINDOWS\\System32\\WindowsPowerShell\\v1.0\\;C:\\WINDOWS\\System32\\OpenSSH\\;C:\\Program Files\\Microsoft SQL Server\\Client SDK\\ODBC\\170\\Tools\\Binn\\;C:\\Program Files\\Azure Data Studio\\bin;C:\\Program Files\\dotnet\\;C:\\Program Files (x86)\\Windows Kits\\10\\Windows Performance Toolkit\\;C:\\split_video_FFMPEG;C:\\Program Files (x86)\\Microsoft SQL Server\\160\\Tools\\Binn\\;C:\\Program Files\\Microsoft SQL Server\\160\\Tools\\Binn\\;C:\\Program Files\\Microsoft SQL Server\\160\\DTS\\Binn\\;C:\\Program Files (x86)\\Microsoft SQL Server\\160\\DTS\\Binn\\;C:\\Users\\sicru\\AppData\\Local\\Programs\\Python\\Python312\\Scripts\\;C:\\Users\\sicru\\AppData\\Local\\Programs\\Python\\Python312\\;C:\\Program Files\\MySQL\\MySQL Shell 8.0\\bin\\;C:\\Users\\sicru\\AppData\\Local\\Microsoft\\WindowsApps;;C:\\Program Files\\Azure Data Studio\\bin;C:\\Users\\sicru\\AppData\\Local\\Programs\\Microsoft VS Code\\bin;C:\\Program Files\\Azure Data Studio\\bin;C:\\Users\\sicru\\.dotnet\\tools;C:\\Program Files\\Microsoft MPI\\Bin\\;C:\\Program Files\\Microsoft\\jdk-11.0.16.101-hotspot\\bin;C:\\Program Files (x86)\\VMware\\VMware Workstation\\bin\\;C:\\WINDOWS\\system32;C:\\WINDOWS;C:\\WINDOWS\\System32\\Wbem;C:\\WINDOWS\\System32\\WindowsPowerShell\\v1.0\\;C:\\WINDOWS\\System32\\OpenSSH\\;C:\\Program Files\\Microsoft SQL Server\\Client SDK\\ODBC\\170\\Tools\\Binn\\;C:\\Program Files\\Azure Data Studio\\bin;C:\\Program Files\\dotnet\\;C:\\Program Files (x86)\\Windows Kits\\10\\Windows Performance Toolkit\\;C:\\split_video_FFMPEG;C:\\Program Files (x86)\\Microsoft SQL Server\\160\\Tools\\Binn\\;C:\\Program Files\\Microsoft SQL Server\\160\\Tools\\Binn\\;C:\\Program Files\\Microsoft SQL Server\\160\\DTS\\Binn\\;C:\\Program Files (x86)\\Microsoft SQL Server\\160\\DTS\\Binn\\;C:\\Users\\sicru\\AppData\\Local\\Programs\\Python\\Python312\\Scripts\\;C:\\Users\\sicru\\AppData\\Local\\Programs\\Python\\Python312\\;C:\\Program Files\\MySQL\\MySQL Shell 8.0\\bin\\;C:\\Users\\sicru\\AppData\\Local\\Microsoft\\WindowsApps;;C:\\Program Files\\Azure Data Studio\\bin;C:\\Users\\sicru\\AppData\\Local\\Programs\\Microsoft VS Code\\bin;C:\\Program Files\\Azure Data Studio\\bin;C:\\Users\\sicru\\.dotnet\\tools\n",
      "PATHEXT: .COM;.EXE;.BAT;.CMD;.VBS;.VBE;.JS;.JSE;.WSF;.WSH;.MSC\n",
      "PROCESSOR_ARCHITECTURE: AMD64\n",
      "PROCESSOR_IDENTIFIER: Intel64 Family 6 Model 154 Stepping 4, GenuineIntel\n",
      "PROCESSOR_LEVEL: 6\n",
      "PROCESSOR_REVISION: 9a04\n",
      "PROGRAMDATA: C:\\ProgramData\n",
      "PROGRAMFILES: C:\\Program Files\n",
      "PROGRAMFILES(X86): C:\\Program Files (x86)\n",
      "PROGRAMW6432: C:\\Program Files\n",
      "PSMODULEPATH: C:\\Program Files\\WindowsPowerShell\\Modules;C:\\WINDOWS\\system32\\WindowsPowerShell\\v1.0\\Modules;C:\\Program Files (x86)\\Microsoft SQL Server\\160\\Tools\\PowerShell\\Modules\\\n",
      "PUBLIC: C:\\Users\\Public\n",
      "PYDEVD_IPYTHON_COMPATIBLE_DEBUGGING: 1\n",
      "PYTHONIOENCODING: utf-8\n",
      "PYTHONUNBUFFERED: 1\n",
      "SESSIONNAME: Console\n",
      "SYSTEMDRIVE: C:\n",
      "SYSTEMROOT: C:\\WINDOWS\n",
      "TEMP: C:\\Users\\sicru\\AppData\\Local\\Temp\n",
      "TMP: C:\\Users\\sicru\\AppData\\Local\\Temp\n",
      "USERDOMAIN: MENGHANN\n",
      "USERDOMAIN_ROAMINGPROFILE: MENGHANN\n",
      "USERNAME: sicru\n",
      "USERPROFILE: C:\\Users\\sicru\n",
      "VBOX_MSI_INSTALL_PATH: C:\\Program Files\\Oracle\\VirtualBox\\\n",
      "VSCODE_AMD_ENTRYPOINT: vs/workbench/api/node/extensionHostProcess\n",
      "VSCODE_CODE_CACHE_PATH: C:\\Users\\sicru\\AppData\\Roaming\\Code\\CachedData\\1a5daa3a0231a0fbba4f14db7ec463cf99d7768e\n",
      "VSCODE_CRASH_REPORTER_PROCESS_TYPE: extensionHost\n",
      "VSCODE_CWD: C:\\Users\\sicru\\AppData\\Local\\Programs\\Microsoft VS Code\n",
      "VSCODE_HANDLES_UNCAUGHT_ERRORS: true\n",
      "VSCODE_IPC_HOOK: \\\\.\\pipe\\e772bddb5e53e627508b12eeeff7939e-1.84.2-main-sock\n",
      "VSCODE_NLS_CONFIG: {\"locale\":\"en-us\",\"osLocale\":\"en-us\",\"availableLanguages\":{},\"_languagePackSupport\":true}\n",
      "VSCODE_PID: 17884\n",
      "WINDIR: C:\\WINDOWS\n",
      "ZES_ENABLE_SYSMAN: 1\n",
      "PYDEVD_USE_FRAME_EVAL: NO\n",
      "TERM: xterm-color\n",
      "CLICOLOR: 1\n",
      "FORCE_COLOR: 1\n",
      "CLICOLOR_FORCE: 1\n",
      "PAGER: cat\n",
      "GIT_PAGER: cat\n",
      "MPLBACKEND: module://matplotlib_inline.backend_inline\n"
     ]
    }
   ],
   "source": [
    "import os\n",
    "\n",
    "for key, value in os.environ.items():\n",
    "    print(f'{key}: {value}')"
   ]
  },
  {
   "cell_type": "code",
   "execution_count": 5,
   "metadata": {},
   "outputs": [
    {
     "name": "stdout",
     "output_type": "stream",
     "text": [
      "environ({'ALLUSERSPROFILE': 'C:\\\\ProgramData', 'APPDATA': 'C:\\\\Users\\\\sicru\\\\AppData\\\\Roaming', 'CHROME_CRASHPAD_PIPE_NAME': '\\\\\\\\.\\\\pipe\\\\crashpad_17884_AOOUWBHMOJEGWPGJ', 'COMMONPROGRAMFILES': 'C:\\\\Program Files\\\\Common Files', 'COMMONPROGRAMFILES(X86)': 'C:\\\\Program Files (x86)\\\\Common Files', 'COMMONPROGRAMW6432': 'C:\\\\Program Files\\\\Common Files', 'COMPUTERNAME': 'MENGHANN', 'COMSPEC': 'C:\\\\WINDOWS\\\\system32\\\\cmd.exe', 'DRIVERDATA': 'C:\\\\Windows\\\\System32\\\\Drivers\\\\DriverData', 'EFC_13612': '1', 'ELECTRON_RUN_AS_NODE': '1', 'HOMEDRIVE': 'C:', 'HOMEPATH': '\\\\Users\\\\sicru', 'JPY_INTERRUPT_EVENT': '1892', 'LOCALAPPDATA': 'C:\\\\Users\\\\sicru\\\\AppData\\\\Local', 'LOGONSERVER': '\\\\\\\\MENGHANN', 'MSMPI_BENCHMARKS': 'C:\\\\Program Files\\\\Microsoft MPI\\\\Benchmarks\\\\', 'MSMPI_BIN': 'C:\\\\Program Files\\\\Microsoft MPI\\\\Bin\\\\', 'NUMBER_OF_PROCESSORS': '12', 'ONEDRIVE': 'D:\\\\OneDrive - Royal University of Phnom Penh', 'ONEDRIVECOMMERCIAL': 'D:\\\\OneDrive - Royal University of Phnom Penh', 'ORIGINAL_XDG_CURRENT_DESKTOP': 'undefined', 'OS': 'Windows_NT', 'PATH': 'c:\\\\Users\\\\sicru\\\\AppData\\\\Local\\\\Programs\\\\Python\\\\Python312;c:\\\\Users\\\\sicru\\\\AppData\\\\Roaming\\\\Python\\\\Python312\\\\Scripts;C:\\\\Program Files\\\\Microsoft MPI\\\\Bin\\\\;C:\\\\Program Files\\\\Microsoft\\\\jdk-11.0.16.101-hotspot\\\\bin;C:\\\\Program Files (x86)\\\\VMware\\\\VMware Workstation\\\\bin\\\\;C:\\\\WINDOWS\\\\system32;C:\\\\WINDOWS;C:\\\\WINDOWS\\\\System32\\\\Wbem;C:\\\\WINDOWS\\\\System32\\\\WindowsPowerShell\\\\v1.0\\\\;C:\\\\WINDOWS\\\\System32\\\\OpenSSH\\\\;C:\\\\Program Files\\\\Microsoft SQL Server\\\\Client SDK\\\\ODBC\\\\170\\\\Tools\\\\Binn\\\\;C:\\\\Program Files\\\\Azure Data Studio\\\\bin;C:\\\\Program Files\\\\dotnet\\\\;C:\\\\Program Files (x86)\\\\Windows Kits\\\\10\\\\Windows Performance Toolkit\\\\;C:\\\\split_video_FFMPEG;C:\\\\Program Files (x86)\\\\Microsoft SQL Server\\\\160\\\\Tools\\\\Binn\\\\;C:\\\\Program Files\\\\Microsoft SQL Server\\\\160\\\\Tools\\\\Binn\\\\;C:\\\\Program Files\\\\Microsoft SQL Server\\\\160\\\\DTS\\\\Binn\\\\;C:\\\\Program Files (x86)\\\\Microsoft SQL Server\\\\160\\\\DTS\\\\Binn\\\\;C:\\\\Users\\\\sicru\\\\AppData\\\\Local\\\\Programs\\\\Python\\\\Python312\\\\Scripts\\\\;C:\\\\Users\\\\sicru\\\\AppData\\\\Local\\\\Programs\\\\Python\\\\Python312\\\\;C:\\\\Program Files\\\\MySQL\\\\MySQL Shell 8.0\\\\bin\\\\;C:\\\\Users\\\\sicru\\\\AppData\\\\Local\\\\Microsoft\\\\WindowsApps;;C:\\\\Program Files\\\\Azure Data Studio\\\\bin;C:\\\\Users\\\\sicru\\\\AppData\\\\Local\\\\Programs\\\\Microsoft VS Code\\\\bin;C:\\\\Program Files\\\\Azure Data Studio\\\\bin;C:\\\\Users\\\\sicru\\\\.dotnet\\\\tools;C:\\\\Program Files\\\\Microsoft MPI\\\\Bin\\\\;C:\\\\Program Files\\\\Microsoft\\\\jdk-11.0.16.101-hotspot\\\\bin;C:\\\\Program Files (x86)\\\\VMware\\\\VMware Workstation\\\\bin\\\\;C:\\\\WINDOWS\\\\system32;C:\\\\WINDOWS;C:\\\\WINDOWS\\\\System32\\\\Wbem;C:\\\\WINDOWS\\\\System32\\\\WindowsPowerShell\\\\v1.0\\\\;C:\\\\WINDOWS\\\\System32\\\\OpenSSH\\\\;C:\\\\Program Files\\\\Microsoft SQL Server\\\\Client SDK\\\\ODBC\\\\170\\\\Tools\\\\Binn\\\\;C:\\\\Program Files\\\\Azure Data Studio\\\\bin;C:\\\\Program Files\\\\dotnet\\\\;C:\\\\Program Files (x86)\\\\Windows Kits\\\\10\\\\Windows Performance Toolkit\\\\;C:\\\\split_video_FFMPEG;C:\\\\Program Files (x86)\\\\Microsoft SQL Server\\\\160\\\\Tools\\\\Binn\\\\;C:\\\\Program Files\\\\Microsoft SQL Server\\\\160\\\\Tools\\\\Binn\\\\;C:\\\\Program Files\\\\Microsoft SQL Server\\\\160\\\\DTS\\\\Binn\\\\;C:\\\\Program Files (x86)\\\\Microsoft SQL Server\\\\160\\\\DTS\\\\Binn\\\\;C:\\\\Users\\\\sicru\\\\AppData\\\\Local\\\\Programs\\\\Python\\\\Python312\\\\Scripts\\\\;C:\\\\Users\\\\sicru\\\\AppData\\\\Local\\\\Programs\\\\Python\\\\Python312\\\\;C:\\\\Program Files\\\\MySQL\\\\MySQL Shell 8.0\\\\bin\\\\;C:\\\\Users\\\\sicru\\\\AppData\\\\Local\\\\Microsoft\\\\WindowsApps;;C:\\\\Program Files\\\\Azure Data Studio\\\\bin;C:\\\\Users\\\\sicru\\\\AppData\\\\Local\\\\Programs\\\\Microsoft VS Code\\\\bin;C:\\\\Program Files\\\\Azure Data Studio\\\\bin;C:\\\\Users\\\\sicru\\\\.dotnet\\\\tools', 'PATHEXT': '.COM;.EXE;.BAT;.CMD;.VBS;.VBE;.JS;.JSE;.WSF;.WSH;.MSC', 'PROCESSOR_ARCHITECTURE': 'AMD64', 'PROCESSOR_IDENTIFIER': 'Intel64 Family 6 Model 154 Stepping 4, GenuineIntel', 'PROCESSOR_LEVEL': '6', 'PROCESSOR_REVISION': '9a04', 'PROGRAMDATA': 'C:\\\\ProgramData', 'PROGRAMFILES': 'C:\\\\Program Files', 'PROGRAMFILES(X86)': 'C:\\\\Program Files (x86)', 'PROGRAMW6432': 'C:\\\\Program Files', 'PSMODULEPATH': 'C:\\\\Program Files\\\\WindowsPowerShell\\\\Modules;C:\\\\WINDOWS\\\\system32\\\\WindowsPowerShell\\\\v1.0\\\\Modules;C:\\\\Program Files (x86)\\\\Microsoft SQL Server\\\\160\\\\Tools\\\\PowerShell\\\\Modules\\\\', 'PUBLIC': 'C:\\\\Users\\\\Public', 'PYDEVD_IPYTHON_COMPATIBLE_DEBUGGING': '1', 'PYTHONIOENCODING': 'utf-8', 'PYTHONUNBUFFERED': '1', 'SESSIONNAME': 'Console', 'SYSTEMDRIVE': 'C:', 'SYSTEMROOT': 'C:\\\\WINDOWS', 'TEMP': 'C:\\\\Users\\\\sicru\\\\AppData\\\\Local\\\\Temp', 'TMP': 'C:\\\\Users\\\\sicru\\\\AppData\\\\Local\\\\Temp', 'USERDOMAIN': 'MENGHANN', 'USERDOMAIN_ROAMINGPROFILE': 'MENGHANN', 'USERNAME': 'sicru', 'USERPROFILE': 'C:\\\\Users\\\\sicru', 'VBOX_MSI_INSTALL_PATH': 'C:\\\\Program Files\\\\Oracle\\\\VirtualBox\\\\', 'VSCODE_AMD_ENTRYPOINT': 'vs/workbench/api/node/extensionHostProcess', 'VSCODE_CODE_CACHE_PATH': 'C:\\\\Users\\\\sicru\\\\AppData\\\\Roaming\\\\Code\\\\CachedData\\\\1a5daa3a0231a0fbba4f14db7ec463cf99d7768e', 'VSCODE_CRASH_REPORTER_PROCESS_TYPE': 'extensionHost', 'VSCODE_CWD': 'C:\\\\Users\\\\sicru\\\\AppData\\\\Local\\\\Programs\\\\Microsoft VS Code', 'VSCODE_HANDLES_UNCAUGHT_ERRORS': 'true', 'VSCODE_IPC_HOOK': '\\\\\\\\.\\\\pipe\\\\e772bddb5e53e627508b12eeeff7939e-1.84.2-main-sock', 'VSCODE_NLS_CONFIG': '{\"locale\":\"en-us\",\"osLocale\":\"en-us\",\"availableLanguages\":{},\"_languagePackSupport\":true}', 'VSCODE_PID': '17884', 'WINDIR': 'C:\\\\WINDOWS', 'ZES_ENABLE_SYSMAN': '1', 'PYDEVD_USE_FRAME_EVAL': 'NO', 'TERM': 'xterm-color', 'CLICOLOR': '1', 'FORCE_COLOR': '1', 'CLICOLOR_FORCE': '1', 'PAGER': 'cat', 'GIT_PAGER': 'cat', 'MPLBACKEND': 'module://matplotlib_inline.backend_inline'})\n"
     ]
    }
   ],
   "source": [
    "import os\n",
    "\n",
    "# Access the 'PATH' environment variable\n",
    "# path = os.getenv('PATH')\n",
    "# print(path)\n",
    "\n",
    "print(os.environ)"
   ]
  }
 ],
 "metadata": {
  "kernelspec": {
   "display_name": "Python 3",
   "language": "python",
   "name": "python3"
  },
  "language_info": {
   "codemirror_mode": {
    "name": "ipython",
    "version": 3
   },
   "file_extension": ".py",
   "mimetype": "text/x-python",
   "name": "python",
   "nbconvert_exporter": "python",
   "pygments_lexer": "ipython3",
   "version": "3.12.0"
  }
 },
 "nbformat": 4,
 "nbformat_minor": 2
}
